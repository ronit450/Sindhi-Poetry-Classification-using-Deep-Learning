{
 "cells": [
  {
   "cell_type": "code",
   "execution_count": 24,
   "metadata": {},
   "outputs": [],
   "source": [
    "import pandas as pd\n",
    "import numpy as np\n",
    "import regex as re"
   ]
  },
  {
   "cell_type": "code",
   "execution_count": 41,
   "metadata": {},
   "outputs": [],
   "source": [
    "combinedData = pd.read_csv(\"D:\\Habib University\\Semester7\\Deep-Learning\\Sindhi-Poetry-Classification-using-Deep-Learning\\data/dataCompiled.csv\")\n"
   ]
  },
  {
   "cell_type": "code",
   "execution_count": 42,
   "metadata": {},
   "outputs": [
    {
     "name": "stdout",
     "output_type": "stream",
     "text": [
      "500\n"
     ]
    }
   ],
   "source": [
    "Bhitai = combinedData[combinedData['Poet'] == 'Shah Bhitai']\n",
    "Bhitai_couplet = Bhitai['Couplets'].tolist()\n",
    "Bhitai_couplet = Bhitai_couplet[:500]\n",
    "print(len(Bhitai_couplet))"
   ]
  },
  {
   "cell_type": "code",
   "execution_count": 37,
   "metadata": {},
   "outputs": [],
   "source": [
    "ayaz1 = pd.read_csv(\n",
    "    \"D:\\Habib University\\Semester7\\Deep-Learning\\Sindhi-Poetry-Classification-using-Deep-Learning\\data/newAyaz.csv\")\n",
    "ayaz2 = pd.read_csv(\n",
    "    \"D:\\Habib University\\Semester7\\Deep-Learning\\Sindhi-Poetry-Classification-using-Deep-Learning\\data/newAyaz2.csv\")\n",
    "ayaz3 = pd.read_csv(\n",
    "    \"D:\\Habib University\\Semester7\\Deep-Learning\\Sindhi-Poetry-Classification-using-Deep-Learning\\data/newAyaz3.csv\")\n",
    "ayaz4 = pd.read_csv(    \"D:\\Habib University\\Semester7\\Deep-Learning\\Sindhi-Poetry-Classification-using-Deep-Learning\\data/dataCompiled.csv\")\n",
    "ayaz5 = pd.read_csv(    \"D:\\Habib University\\Semester7\\Deep-Learning\\Sindhi-Poetry-Classification-using-Deep-Learning\\data/newAyaz5.csv\")"
   ]
  },
  {
   "cell_type": "code",
   "execution_count": 26,
   "metadata": {},
   "outputs": [
    {
     "name": "stdout",
     "output_type": "stream",
     "text": [
      "Index(['Couplet', 'Author'], dtype='object')\n",
      "Index(['Couplet', 'Author'], dtype='object')\n",
      "Index(['Couplets', 'Poet'], dtype='object')\n",
      "Index(['Couplets', 'Poet'], dtype='object')\n"
     ]
    }
   ],
   "source": [
    "print(ayaz1.columns)\n",
    "print(ayaz2.columns)\n",
    "print(ayaz3.columns)\n",
    "print(ayaz4.columns)"
   ]
  },
  {
   "cell_type": "code",
   "execution_count": 38,
   "metadata": {},
   "outputs": [],
   "source": [
    "ayaz4 = ayaz4[ayaz4['Poet'] == 'Shaikh Ayaz']\n",
    "Bhitai = ayaz4[ayaz4['Poet'] == 'Shah Bhitai']"
   ]
  },
  {
   "cell_type": "code",
   "execution_count": 28,
   "metadata": {},
   "outputs": [],
   "source": [
    "aya1_lst = ayaz1['Couplet'].tolist()\n",
    "aya2_lst = ayaz2['Couplet'].tolist()\n",
    "aya3_lst = ayaz3['Couplets'].tolist()\n",
    "aya4_lst = ayaz4['Couplets'].tolist()\n",
    "aya5_lst = ayaz5['Couplets'].tolist()\n"
   ]
  },
  {
   "cell_type": "code",
   "execution_count": 29,
   "metadata": {},
   "outputs": [],
   "source": [
    "combined_lines = []\n",
    "combined_lines = aya1_lst + aya2_lst + aya3_lst + aya4_lst + aya5_lst\n"
   ]
  },
  {
   "cell_type": "code",
   "execution_count": 30,
   "metadata": {},
   "outputs": [
    {
     "name": "stdout",
     "output_type": "stream",
     "text": [
      "577\n",
      "577\n"
     ]
    }
   ],
   "source": [
    "unique_dic = {}\n",
    "ayaz_couplet = []\n",
    "for i in combined_lines:\n",
    "    if i not in unique_dic:\n",
    "        unique_dic[i] = 1\n",
    "        ayaz_couplet.append(i)\n",
    "\n",
    "print(len(unique_dic))\n",
    "print(len(ayaz_couplet))"
   ]
  },
  {
   "cell_type": "code",
   "execution_count": 32,
   "metadata": {},
   "outputs": [
    {
     "name": "stdout",
     "output_type": "stream",
     "text": [
      "500\n"
     ]
    }
   ],
   "source": [
    "ayaz_couplet = ayaz_couplet[:500]\n",
    "print(len(ayaz_couplet))"
   ]
  },
  {
   "cell_type": "code",
   "execution_count": 31,
   "metadata": {},
   "outputs": [
    {
     "ename": "NameError",
     "evalue": "name 'Bukhari_couplet' is not defined",
     "output_type": "error",
     "traceback": [
      "\u001b[1;31m---------------------------------------------------------------------------\u001b[0m",
      "\u001b[1;31mNameError\u001b[0m                                 Traceback (most recent call last)",
      "\u001b[1;32md:\\Habib University\\Semester7\\Deep-Learning\\Sindhi-Poetry-Classification-using-Deep-Learning\\src\\poetData.ipynb Cell 9\u001b[0m line \u001b[0;36m1\n\u001b[1;32m----> <a href='vscode-notebook-cell:/d%3A/Habib%20University/Semester7/Deep-Learning/Sindhi-Poetry-Classification-using-Deep-Learning/src/poetData.ipynb#W3sZmlsZQ%3D%3D?line=0'>1</a>\u001b[0m \u001b[39mfor\u001b[39;00m i \u001b[39min\u001b[39;00m \u001b[39mrange\u001b[39m(\u001b[39mlen\u001b[39m(Bukhari_couplet)):\n\u001b[0;32m      <a href='vscode-notebook-cell:/d%3A/Habib%20University/Semester7/Deep-Learning/Sindhi-Poetry-Classification-using-Deep-Learning/src/poetData.ipynb#W3sZmlsZQ%3D%3D?line=1'>2</a>\u001b[0m     couplet \u001b[39m=\u001b[39m Bukhari_couplet[i]\n\u001b[0;32m      <a href='vscode-notebook-cell:/d%3A/Habib%20University/Semester7/Deep-Learning/Sindhi-Poetry-Classification-using-Deep-Learning/src/poetData.ipynb#W3sZmlsZQ%3D%3D?line=2'>3</a>\u001b[0m     couplet \u001b[39m=\u001b[39m couplet\u001b[39m.\u001b[39mrstrip(\u001b[39m\"\u001b[39m\u001b[39m،.؛!؟,،\u001b[39m\u001b[39m\"\u001b[39m)  \u001b[39m# Remove leading symbols , . ؛ ! ؟\u001b[39;00m\n",
      "\u001b[1;31mNameError\u001b[0m: name 'Bukhari_couplet' is not defined"
     ]
    }
   ],
   "source": [
    "for i in range(len(Bukhari_couplet)):\n",
    "    couplet = Bukhari_couplet[i]\n",
    "    couplet = couplet.rstrip(\"،.؛!؟,،\")  # Remove leading symbols , . ؛ ! ؟\n",
    "    Bukhari_couplet[i] = couplet"
   ]
  },
  {
   "cell_type": "code",
   "execution_count": null,
   "metadata": {},
   "outputs": [
    {
     "name": "stdout",
     "output_type": "stream",
     "text": [
      "پيار جي عيوض پيار گهرين ٿو، حيف هجئي استاد،\n",
      "عاشق ناهين ڄڻ ڪو آهين، يار وڏو واپاري\n",
      "487\n"
     ]
    }
   ],
   "source": [
    "print(Bukhari_couplet[-1])\n",
    "print(len(Bukhari_couplet))"
   ]
  },
  {
   "cell_type": "code",
   "execution_count": 39,
   "metadata": {},
   "outputs": [],
   "source": [
    "Bhitai = Bhitai['Couplets'].tolist()\n",
    "Bhitai = Bhitai[:500]"
   ]
  },
  {
   "cell_type": "code",
   "execution_count": 43,
   "metadata": {},
   "outputs": [],
   "source": [
    "data = {\"Couplet\": Bhitai_couplet, \"Poet\": ['Shah Abdul Latif Bhitai'] * len(Bhitai_couplet)}\n",
    "df = pd.DataFrame(data)\n",
    "df.to_csv('Bhitai.csv', index=False)"
   ]
  },
  {
   "cell_type": "code",
   "execution_count": 45,
   "metadata": {},
   "outputs": [],
   "source": [
    "bhitai = pd.read_csv(\n",
    "    \"D:\\Habib University\\Semester7\\Deep-Learning\\Sindhi-Poetry-Classification-using-Deep-Learning\\data\\StructuredData\\Bhitai.csv\")\n",
    "bukhari = pd.read_csv(\"D:\\Habib University\\Semester7\\Deep-Learning\\Sindhi-Poetry-Classification-using-Deep-Learning\\data\\StructuredData\\Bukhari.csv\")\n",
    "ayaz = pd.read_csv(\"D:\\Habib University\\Semester7\\Deep-Learning\\Sindhi-Poetry-Classification-using-Deep-Learning\\data\\StructuredData\\Ayaz.csv\")\n",
    "masroor = pd.read_csv(\"D:\\Habib University\\Semester7\\Deep-Learning\\Sindhi-Poetry-Classification-using-Deep-Learning\\data\\StructuredData\\masroor.csv\")"
   ]
  },
  {
   "cell_type": "code",
   "execution_count": 46,
   "metadata": {},
   "outputs": [],
   "source": [
    "Couplets = pd.concat([bhitai, bukhari, ayaz, masroor], ignore_index=True)"
   ]
  },
  {
   "cell_type": "code",
   "execution_count": 47,
   "metadata": {},
   "outputs": [
    {
     "data": {
      "text/html": [
       "<div>\n",
       "<style scoped>\n",
       "    .dataframe tbody tr th:only-of-type {\n",
       "        vertical-align: middle;\n",
       "    }\n",
       "\n",
       "    .dataframe tbody tr th {\n",
       "        vertical-align: top;\n",
       "    }\n",
       "\n",
       "    .dataframe thead th {\n",
       "        text-align: right;\n",
       "    }\n",
       "</style>\n",
       "<table border=\"1\" class=\"dataframe\">\n",
       "  <thead>\n",
       "    <tr style=\"text-align: right;\">\n",
       "      <th></th>\n",
       "      <th>Couplet</th>\n",
       "      <th>Poet</th>\n",
       "    </tr>\n",
       "  </thead>\n",
       "  <tbody>\n",
       "    <tr>\n",
       "      <th>0</th>\n",
       "      <td>وَحۡدَہٗ جَي وَڍِيا، ڪِئا اِلّاَاللهَ اَڌَ،\\nس...</td>\n",
       "      <td>Shah Abdul Latif Bhitai</td>\n",
       "    </tr>\n",
       "    <tr>\n",
       "      <th>1</th>\n",
       "      <td>وَحۡدَہٗ لا شَرِيکَ لَهٗ، اِيُّ ھيڪَڙائِيَ حَق...</td>\n",
       "      <td>Shah Abdul Latif Bhitai</td>\n",
       "    </tr>\n",
       "    <tr>\n",
       "      <th>2</th>\n",
       "      <td>پاڻِهۡ پَسي پاڻَ کي، پاڻِهۡ  ئِي محبوبُ،\\r\\nپا...</td>\n",
       "      <td>Shah Abdul Latif Bhitai</td>\n",
       "    </tr>\n",
       "    <tr>\n",
       "      <th>3</th>\n",
       "      <td>سو ھِيُ، سو ھُو، سـو اَجلُ، سو اللهُ،\\nسو پِري...</td>\n",
       "      <td>Shah Abdul Latif Bhitai</td>\n",
       "    </tr>\n",
       "    <tr>\n",
       "      <th>4</th>\n",
       "      <td>پڙاڏو، سو سَڏُ، وَرُ وائِيَ، جو جَي لَھين،\\r\\n...</td>\n",
       "      <td>Shah Abdul Latif Bhitai</td>\n",
       "    </tr>\n",
       "  </tbody>\n",
       "</table>\n",
       "</div>"
      ],
      "text/plain": [
       "                                             Couplet                     Poet\n",
       "0  وَحۡدَہٗ جَي وَڍِيا، ڪِئا اِلّاَاللهَ اَڌَ،\\nس...  Shah Abdul Latif Bhitai\n",
       "1  وَحۡدَہٗ لا شَرِيکَ لَهٗ، اِيُّ ھيڪَڙائِيَ حَق...  Shah Abdul Latif Bhitai\n",
       "2  پاڻِهۡ پَسي پاڻَ کي، پاڻِهۡ  ئِي محبوبُ،\\r\\nپا...  Shah Abdul Latif Bhitai\n",
       "3  سو ھِيُ، سو ھُو، سـو اَجلُ، سو اللهُ،\\nسو پِري...  Shah Abdul Latif Bhitai\n",
       "4  پڙاڏو، سو سَڏُ، وَرُ وائِيَ، جو جَي لَھين،\\r\\n...  Shah Abdul Latif Bhitai"
      ]
     },
     "execution_count": 47,
     "metadata": {},
     "output_type": "execute_result"
    }
   ],
   "source": [
    "Couplets.head()"
   ]
  },
  {
   "cell_type": "code",
   "execution_count": 48,
   "metadata": {},
   "outputs": [],
   "source": [
    "Couplets.to_csv('Couplets.csv', index=False)"
   ]
  },
  {
   "cell_type": "code",
   "execution_count": null,
   "metadata": {},
   "outputs": [],
   "source": []
  }
 ],
 "metadata": {
  "kernelspec": {
   "display_name": "Python 3",
   "language": "python",
   "name": "python3"
  },
  "language_info": {
   "codemirror_mode": {
    "name": "ipython",
    "version": 3
   },
   "file_extension": ".py",
   "mimetype": "text/x-python",
   "name": "python",
   "nbconvert_exporter": "python",
   "pygments_lexer": "ipython3",
   "version": "3.10.6"
  }
 },
 "nbformat": 4,
 "nbformat_minor": 2
}
