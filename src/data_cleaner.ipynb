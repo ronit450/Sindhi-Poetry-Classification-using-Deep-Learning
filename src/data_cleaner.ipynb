{
 "cells": [
  {
   "cell_type": "code",
   "execution_count": 2,
   "metadata": {},
   "outputs": [],
   "source": [
    "import pandas as pd\n",
    "import numpy as np"
   ]
  },
  {
   "cell_type": "code",
   "execution_count": 3,
   "metadata": {},
   "outputs": [],
   "source": [
    "\n",
    "filePath = 'D:\\Habib University\\Semester7\\Deep-Learning\\Sindhi-Poetry-Classification-using-Deep-Learning\\data\\Data_AdilSoomro.csv'\n",
    "shayari = pd.read_csv(filePath, encoding='utf-8',\n",
    "                    sep=',')"
   ]
  },
  {
   "cell_type": "code",
   "execution_count": 4,
   "metadata": {},
   "outputs": [
    {
     "data": {
      "text/html": [
       "<div>\n",
       "<style scoped>\n",
       "    .dataframe tbody tr th:only-of-type {\n",
       "        vertical-align: middle;\n",
       "    }\n",
       "\n",
       "    .dataframe tbody tr th {\n",
       "        vertical-align: top;\n",
       "    }\n",
       "\n",
       "    .dataframe thead th {\n",
       "        text-align: right;\n",
       "    }\n",
       "</style>\n",
       "<table border=\"1\" class=\"dataframe\">\n",
       "  <thead>\n",
       "    <tr style=\"text-align: right;\">\n",
       "      <th></th>\n",
       "      <th>Couplet</th>\n",
       "      <th>Poet</th>\n",
       "    </tr>\n",
       "  </thead>\n",
       "  <tbody>\n",
       "    <tr>\n",
       "      <th>0</th>\n",
       "      <td>جڏهن کان پرين تو آ ناتو ڇنو\\nتڏهن کان سڀئي خوا...</td>\n",
       "      <td>Adil Soomro</td>\n",
       "    </tr>\n",
       "    <tr>\n",
       "      <th>1</th>\n",
       "      <td>واٽَ تان پَٿَرُ ئي کَڻُ تُون ڪُجھه ته ڪر\\nواند...</td>\n",
       "      <td>Adil Soomro</td>\n",
       "    </tr>\n",
       "    <tr>\n",
       "      <th>2</th>\n",
       "      <td>جنهن پيارَ کي ٺُڪرايو\\nٺوڪَر ۾ ڏِٺو هوندَئي.</td>\n",
       "      <td>Adil Soomro</td>\n",
       "    </tr>\n",
       "    <tr>\n",
       "      <th>3</th>\n",
       "      <td>درشن نه ديپُ ڪوئي تنها اُداس لمحا\\nتوکان سِوا ...</td>\n",
       "      <td>Adil Soomro</td>\n",
       "    </tr>\n",
       "    <tr>\n",
       "      <th>4</th>\n",
       "      <td>ساٿ تنهنجو رهيو نه واعدو ڪو\\nهاڻي سپنن ۾ ڇا رک...</td>\n",
       "      <td>Adil Soomro</td>\n",
       "    </tr>\n",
       "  </tbody>\n",
       "</table>\n",
       "</div>"
      ],
      "text/plain": [
       "                                             Couplet         Poet\n",
       "0  جڏهن کان پرين تو آ ناتو ڇنو\\nتڏهن کان سڀئي خوا...  Adil Soomro\n",
       "1  واٽَ تان پَٿَرُ ئي کَڻُ تُون ڪُجھه ته ڪر\\nواند...  Adil Soomro\n",
       "2       جنهن پيارَ کي ٺُڪرايو\\nٺوڪَر ۾ ڏِٺو هوندَئي.  Adil Soomro\n",
       "3  درشن نه ديپُ ڪوئي تنها اُداس لمحا\\nتوکان سِوا ...  Adil Soomro\n",
       "4  ساٿ تنهنجو رهيو نه واعدو ڪو\\nهاڻي سپنن ۾ ڇا رک...  Adil Soomro"
      ]
     },
     "execution_count": 4,
     "metadata": {},
     "output_type": "execute_result"
    }
   ],
   "source": [
    "shayari.head()"
   ]
  },
  {
   "cell_type": "code",
   "execution_count": 5,
   "metadata": {},
   "outputs": [],
   "source": [
    "data = shayari.dropna()"
   ]
  },
  {
   "cell_type": "code",
   "execution_count": 6,
   "metadata": {},
   "outputs": [
    {
     "data": {
      "text/plain": [
       "Couplet    0\n",
       "Poet       0\n",
       "dtype: int64"
      ]
     },
     "execution_count": 6,
     "metadata": {},
     "output_type": "execute_result"
    }
   ],
   "source": [
    "data.isnull().sum()"
   ]
  },
  {
   "cell_type": "code",
   "execution_count": 8,
   "metadata": {},
   "outputs": [],
   "source": [
    "data.to_csv('adil.csv', index=False, encoding='utf-8')"
   ]
  },
  {
   "cell_type": "code",
   "execution_count": 10,
   "metadata": {},
   "outputs": [],
   "source": [
    "filePath = 'D:\\Habib University\\Semester7\\Deep-Learning\\Sindhi-Poetry-Classification-using-Deep-Learning\\data\\StructuredData\\Couplets.csv'\n",
    "shayari = pd.read_csv(filePath, encoding='utf-8',\n",
    "                      sep=',')"
   ]
  },
  {
   "cell_type": "code",
   "execution_count": 11,
   "metadata": {},
   "outputs": [],
   "source": [
    "Sindhi_couplet = pd.concat([shayari, data], ignore_index=True)\n",
    "Sindhi_couplet.to_csv('Sindhi_couplet.csv', index=False, encoding='utf-8')"
   ]
  },
  {
   "cell_type": "code",
   "execution_count": 13,
   "metadata": {},
   "outputs": [
    {
     "name": "stdout",
     "output_type": "stream",
     "text": [
      "573\n"
     ]
    }
   ],
   "source": [
    "print(len(Sindhi_couplet[Sindhi_couplet['Poet'] == 'Adil Soomro']))"
   ]
  },
  {
   "cell_type": "code",
   "execution_count": 14,
   "metadata": {},
   "outputs": [
    {
     "name": "stdout",
     "output_type": "stream",
     "text": [
      "513\n"
     ]
    }
   ],
   "source": [
    "Sindhi_couplet = Sindhi_couplet[:-60]\n",
    "print(len(Sindhi_couplet[Sindhi_couplet['Poet'] == 'Adil Soomro']))"
   ]
  },
  {
   "cell_type": "code",
   "execution_count": null,
   "metadata": {},
   "outputs": [],
   "source": [
    "Sindhi_couplet = pd.concat([shayari, data], ignore_index=True)\n",
    "Sindhi_couplet.to_csv('Sindhi_couplet.csv', index=False, encoding='utf-8')"
   ]
  }
 ],
 "metadata": {
  "kernelspec": {
   "display_name": "Python 3",
   "language": "python",
   "name": "python3"
  },
  "language_info": {
   "codemirror_mode": {
    "name": "ipython",
    "version": 3
   },
   "file_extension": ".py",
   "mimetype": "text/x-python",
   "name": "python",
   "nbconvert_exporter": "python",
   "pygments_lexer": "ipython3",
   "version": "3.10.6"
  }
 },
 "nbformat": 4,
 "nbformat_minor": 2
}
